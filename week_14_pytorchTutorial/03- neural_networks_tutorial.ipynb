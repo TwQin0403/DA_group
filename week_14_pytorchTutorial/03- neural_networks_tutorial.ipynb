{
  "nbformat": 4,
  "nbformat_minor": 0,
  "metadata": {
    "colab": {
      "name": "neural_networks_tutorial.ipynb",
      "version": "0.3.2",
      "provenance": []
    },
    "language_info": {
      "codemirror_mode": {
        "name": "ipython",
        "version": 3
      },
      "file_extension": ".py",
      "mimetype": "text/x-python",
      "name": "python",
      "nbconvert_exporter": "python",
      "pygments_lexer": "ipython3",
      "version": "3.6.6"
    },
    "kernelspec": {
      "display_name": "Python 3",
      "language": "python",
      "name": "python3"
    }
  },
  "cells": [
    {
      "metadata": {
        "id": "ae6fQtsHAm8Y",
        "colab_type": "code",
        "colab": {}
      },
      "cell_type": "code",
      "source": [
        "%matplotlib inline"
      ],
      "execution_count": 0,
      "outputs": []
    },
    {
      "metadata": {
        "id": "HaoqXWniAm8f",
        "colab_type": "text"
      },
      "cell_type": "markdown",
      "source": [
        "\n",
        "Neural Networks\n",
        "===============\n",
        "\n",
        "Neural networks can be constructed using the ``torch.nn`` package.\n",
        "\n",
        "Now that you had a glimpse of ``autograd``, ``nn`` depends on\n",
        "``autograd`` to define models and differentiate them.\n",
        "An ``nn.Module`` contains layers, and a method ``forward(input)``\\ that\n",
        "returns the ``output``.\n",
        "\n",
        "For example, look at this network that classifies digit images:\n",
        "\n",
        ".. figure:: /_static/img/mnist.png\n",
        "   :alt: convnet\n",
        "\n",
        "   convnet\n",
        "\n",
        "It is a simple feed-forward network. It takes the input, feeds it\n",
        "through several layers one after the other, and then finally gives the\n",
        "output.\n",
        "\n",
        "A typical training procedure for a neural network is as follows:\n",
        "\n",
        "- Define the neural network that has some learnable parameters (or\n",
        "  weights)\n",
        "- Iterate over a dataset of inputs\n",
        "- Process input through the network\n",
        "- Compute the loss (how far is the output from being correct)\n",
        "- Propagate gradients back into the network’s parameters\n",
        "- Update the weights of the network, typically using a simple update rule:\n",
        "  ``weight = weight - learning_rate * gradient``\n",
        "\n",
        "Define the network\n",
        "------------------\n",
        "\n",
        "Let’s define this network:\n",
        "\n"
      ]
    },
    {
      "metadata": {
        "id": "vWslKBz6Am8g",
        "colab_type": "code",
        "colab": {
          "base_uri": "https://localhost:8080/",
          "height": 136
        },
        "outputId": "e2d8e755-50cb-4aee-e1b1-7a65cfc82c82"
      },
      "cell_type": "code",
      "source": [
        "import torch\n",
        "import torch.nn as nn\n",
        "import torch.nn.functional as F\n",
        "\n",
        "\n",
        "class Net(nn.Module):\n",
        "\n",
        "    def __init__(self):\n",
        "        super(Net, self).__init__()\n",
        "        # 1 input image channel, 6 output channels, 5x5 square convolution\n",
        "        # kernel\n",
        "        self.conv1 = nn.Conv2d(1, 6, 5) \n",
        "        self.conv2 = nn.Conv2d(6, 16, 5) \n",
        "        # an affine operation: y = Wx + b\n",
        "        self.fc1 = nn.Linear(16 * 5 * 5, 120)\n",
        "        self.fc2 = nn.Linear(120, 84)\n",
        "        self.fc3 = nn.Linear(84, 10)\n",
        "\n",
        "    def forward(self, x):\n",
        "        # Max pooling over a (2, 2) window\n",
        "        x = F.max_pool2d(F.relu(self.conv1(x)), (2, 2)) # CONV1: (Batch, 1,32,32)->(batch, 6, 28,28) ; MAXPOOL2D: (batch, 6, 28,28)-> (batch, 6, 14, 14)\n",
        "        # If the size is a square you can only specify a single number\n",
        "        x = F.max_pool2d(F.relu(self.conv2(x)), 2)      # CONV2: (batch, 6,14,14)->(batch, 16,10,10) ; MAXPOOL2D: (batch,16,10,10) -> (batch,16, 5, 5)\n",
        "        x = x.view(-1, self.num_flat_features(x))       # flatten (batch,16,5,5) ->(batch, 400)\n",
        "        x = F.relu(self.fc1(x))     # (batch, 400) -> (batch, 120)\n",
        "        x = F.relu(self.fc2(x))     # (batch, 120) -> (batch,84)\n",
        "        x = self.fc3(x)             # (batch, 84)  -> (batch,10)\n",
        "        return x\n",
        "\n",
        "    def num_flat_features(self, x):\n",
        "        size = x.size()[1:]  # all dimensions except the batch dimension (batch, channel=16, height=5, width=5)\n",
        "        num_features = 1\n",
        "        for s in size:\n",
        "            num_features *= s\n",
        "        return num_features\n",
        "\n",
        "\n",
        "net = Net()\n",
        "print(net)"
      ],
      "execution_count": 35,
      "outputs": [
        {
          "output_type": "stream",
          "text": [
            "Net(\n",
            "  (conv1): Conv2d(1, 6, kernel_size=(5, 5), stride=(1, 1))\n",
            "  (conv2): Conv2d(6, 16, kernel_size=(5, 5), stride=(1, 1))\n",
            "  (fc1): Linear(in_features=400, out_features=120, bias=True)\n",
            "  (fc2): Linear(in_features=120, out_features=84, bias=True)\n",
            "  (fc3): Linear(in_features=84, out_features=10, bias=True)\n",
            ")\n"
          ],
          "name": "stdout"
        }
      ]
    },
    {
      "metadata": {
        "id": "FHJgOfgYAm8j",
        "colab_type": "text"
      },
      "cell_type": "markdown",
      "source": [
        "You just have to define the ``forward`` function, and the ``backward``\n",
        "function (where gradients are computed) is automatically defined for you\n",
        "using ``autograd``.\n",
        "You can use any of the Tensor operations in the ``forward`` function.\n",
        "\n",
        "The learnable parameters of a model are returned by ``net.parameters()``\n",
        "\n"
      ]
    },
    {
      "metadata": {
        "id": "Ay5cwJMxAm8k",
        "colab_type": "code",
        "colab": {
          "base_uri": "https://localhost:8080/",
          "height": 221
        },
        "outputId": "a601117f-557d-434a-91df-d9169cce1532"
      },
      "cell_type": "code",
      "source": [
        "params = list(net.parameters())\n",
        "print(len(params))\n",
        "print(params[0].size())  # conv1's .weight\n",
        "for i, para in enumerate(params):\n",
        "  print(i, para.size())"
      ],
      "execution_count": 36,
      "outputs": [
        {
          "output_type": "stream",
          "text": [
            "10\n",
            "torch.Size([6, 1, 5, 5])\n",
            "0 torch.Size([6, 1, 5, 5])\n",
            "1 torch.Size([6])\n",
            "2 torch.Size([16, 6, 5, 5])\n",
            "3 torch.Size([16])\n",
            "4 torch.Size([120, 400])\n",
            "5 torch.Size([120])\n",
            "6 torch.Size([84, 120])\n",
            "7 torch.Size([84])\n",
            "8 torch.Size([10, 84])\n",
            "9 torch.Size([10])\n"
          ],
          "name": "stdout"
        }
      ]
    },
    {
      "metadata": {
        "id": "t7qnFaG8Am8n",
        "colab_type": "text"
      },
      "cell_type": "markdown",
      "source": [
        "Let try a random 32x32 input\n",
        "Note: Expected input size to this net(LeNet) is 32x32. To use this net on\n",
        "MNIST dataset, please resize the images from the dataset to 32x32.\n",
        "\n"
      ]
    },
    {
      "metadata": {
        "id": "ofCFx0g-Am8o",
        "colab_type": "code",
        "colab": {
          "base_uri": "https://localhost:8080/",
          "height": 51
        },
        "outputId": "0b805a0c-0a02-4841-9f39-e4225217ad39"
      },
      "cell_type": "code",
      "source": [
        "input = torch.randn(1, 1, 32, 32)\n",
        "out = net(input)\n",
        "print(out)"
      ],
      "execution_count": 37,
      "outputs": [
        {
          "output_type": "stream",
          "text": [
            "tensor([[ 0.0878, -0.0315, -0.1948,  0.1213,  0.1377, -0.0121,  0.0771, -0.0428,\n",
            "         -0.1171,  0.0126]], grad_fn=<AddmmBackward>)\n"
          ],
          "name": "stdout"
        }
      ]
    },
    {
      "metadata": {
        "id": "xnodvFAgAm8q",
        "colab_type": "text"
      },
      "cell_type": "markdown",
      "source": [
        "Zero the gradient buffers of all parameters and backprops with random\n",
        "gradients:\n",
        "\n"
      ]
    },
    {
      "metadata": {
        "id": "Ru0BYCE9Am8r",
        "colab_type": "code",
        "colab": {}
      },
      "cell_type": "code",
      "source": [
        "net.zero_grad()\n",
        "out.backward(torch.randn(1, 10))"
      ],
      "execution_count": 0,
      "outputs": []
    },
    {
      "metadata": {
        "id": "WG--qrx2Am8v",
        "colab_type": "text"
      },
      "cell_type": "markdown",
      "source": [
        "<div class=\"alert alert-info\"><h4>Note</h4><p>``torch.nn`` only supports mini-batches. The entire ``torch.nn``\n",
        "    package only supports inputs that are a mini-batch of samples, and not\n",
        "    a single sample.\n",
        "\n",
        "    For example, ``nn.Conv2d`` will take in a 4D Tensor of\n",
        "    ``nSamples x nChannels x Height x Width``.\n",
        "\n",
        "    If you have a single sample, just use ``input.unsqueeze(0)`` to add\n",
        "    a fake batch dimension.</p></div>\n",
        "\n",
        "Before proceeding further, let's recap all the classes you’ve seen so far.\n",
        "\n",
        "**Recap:**\n",
        "  -  ``torch.Tensor`` - A *multi-dimensional array* with support for autograd\n",
        "     operations like ``backward()``. Also *holds the gradient* w.r.t. the\n",
        "     tensor.\n",
        "  -  ``nn.Module`` - Neural network module. *Convenient way of\n",
        "     encapsulating parameters*, with helpers for moving them to GPU,\n",
        "     exporting, loading, etc.\n",
        "  -  ``nn.Parameter`` - A kind of Tensor, that is *automatically\n",
        "     registered as a parameter when assigned as an attribute to a*\n",
        "     ``Module``.\n",
        "  -  ``autograd.Function`` - Implements *forward and backward definitions\n",
        "     of an autograd operation*. Every ``Tensor`` operation, creates at\n",
        "     least a single ``Function`` node, that connects to functions that\n",
        "     created a ``Tensor`` and *encodes its history*.\n",
        "\n",
        "**At this point, we covered:**\n",
        "  -  Defining a neural network\n",
        "  -  Processing inputs and calling backward\n",
        "\n",
        "**Still Left:**\n",
        "  -  Computing the loss\n",
        "  -  Updating the weights of the network\n",
        "\n",
        "Loss Function\n",
        "-------------\n",
        "A loss function takes the (output, target) pair of inputs, and computes a\n",
        "value that estimates how far away the output is from the target.\n",
        "\n",
        "There are several different\n",
        "`loss functions <http://pytorch.org/docs/nn.html#loss-functions>`_ under the\n",
        "nn package .\n",
        "A simple loss is: ``nn.MSELoss`` which computes the mean-squared error\n",
        "between the input and the target.\n",
        "\n",
        "For example:\n",
        "\n"
      ]
    },
    {
      "metadata": {
        "id": "-rSw4WEcAm8v",
        "colab_type": "code",
        "colab": {
          "base_uri": "https://localhost:8080/",
          "height": 34
        },
        "outputId": "3abd04f3-6c3d-4659-da4d-81097ddee5c2"
      },
      "cell_type": "code",
      "source": [
        "output = net(input)\n",
        "target = torch.randn(10)  # a dummy target, for example\n",
        "target = target.view(1, -1)  # make it the same shape as output\n",
        "criterion = nn.MSELoss()\n",
        "\n",
        "loss = criterion(output, target)\n",
        "print(loss)"
      ],
      "execution_count": 39,
      "outputs": [
        {
          "output_type": "stream",
          "text": [
            "tensor(0.8571, grad_fn=<MseLossBackward>)\n"
          ],
          "name": "stdout"
        }
      ]
    },
    {
      "metadata": {
        "id": "ocbZ5PcsAm8y",
        "colab_type": "text"
      },
      "cell_type": "markdown",
      "source": [
        "Now, if you follow ``loss`` in the backward direction, using its\n",
        "``.grad_fn`` attribute, you will see a graph of computations that looks\n",
        "like this:\n",
        "\n",
        "::\n",
        "\n",
        "    input -> conv2d -> relu -> maxpool2d -> conv2d -> relu -> maxpool2d\n",
        "          -> view -> linear -> relu -> linear -> relu -> linear\n",
        "          -> MSELoss\n",
        "          -> loss\n",
        "\n",
        "So, when we call ``loss.backward()``, the whole graph is differentiated\n",
        "w.r.t. the loss, and all Tensors in the graph that has ``requires_grad=True``\n",
        "will have their ``.grad`` Tensor accumulated with the gradient.\n",
        "\n",
        "For illustration, let us follow a few steps backward:\n",
        "\n"
      ]
    },
    {
      "metadata": {
        "id": "GIVkOAhpOYk7",
        "colab_type": "code",
        "colab": {
          "base_uri": "https://localhost:8080/",
          "height": 459
        },
        "outputId": "f4eecaf6-9b39-4b89-b38f-f600c20a9b1c"
      },
      "cell_type": "code",
      "source": [
        "def print_graph(g, level=0):\n",
        "    if g == None: return\n",
        "    print('*'*level*4, g)\n",
        "    for subg in g.next_functions:\n",
        "        print_graph(subg[0], level+1)\n",
        "\n",
        "print_graph(loss.grad_fn, 0)"
      ],
      "execution_count": 40,
      "outputs": [
        {
          "output_type": "stream",
          "text": [
            " <MseLossBackward object at 0x7f901a03c9e8>\n",
            "**** <AddmmBackward object at 0x7f8fd4312e48>\n",
            "******** <AccumulateGrad object at 0x7f901a03cf98>\n",
            "******** <ReluBackward0 object at 0x7f901a03c978>\n",
            "************ <AddmmBackward object at 0x7f901a03c4e0>\n",
            "**************** <AccumulateGrad object at 0x7f901a03c400>\n",
            "**************** <ReluBackward0 object at 0x7f901a03cb70>\n",
            "******************** <AddmmBackward object at 0x7f901a03cfd0>\n",
            "************************ <AccumulateGrad object at 0x7f901a03ca90>\n",
            "************************ <ViewBackward object at 0x7f901a03c668>\n",
            "**************************** <MaxPool2DWithIndicesBackward object at 0x7f901a03c6d8>\n",
            "******************************** <ReluBackward0 object at 0x7f901a03c128>\n",
            "************************************ <MkldnnConvolutionBackward object at 0x7f901a03c710>\n",
            "**************************************** <MaxPool2DWithIndicesBackward object at 0x7f901a03c4a8>\n",
            "******************************************** <ReluBackward0 object at 0x7f901a03ceb8>\n",
            "************************************************ <MkldnnConvolutionBackward object at 0x7f901a03c860>\n",
            "**************************************************** <AccumulateGrad object at 0x7f901a03cbe0>\n",
            "**************************************************** <AccumulateGrad object at 0x7f901a03c5f8>\n",
            "**************************************** <AccumulateGrad object at 0x7f901a03cc18>\n",
            "**************************************** <AccumulateGrad object at 0x7f901a03c780>\n",
            "************************ <TBackward object at 0x7f901a03c438>\n",
            "**************************** <AccumulateGrad object at 0x7f901a03c6d8>\n",
            "**************** <TBackward object at 0x7f901a03c358>\n",
            "******************** <AccumulateGrad object at 0x7f901a03cfd0>\n",
            "******** <TBackward object at 0x7f901a03c828>\n",
            "************ <AccumulateGrad object at 0x7f901a03c4e0>\n"
          ],
          "name": "stdout"
        }
      ]
    },
    {
      "metadata": {
        "id": "vIN-wICDAm8z",
        "colab_type": "code",
        "colab": {
          "base_uri": "https://localhost:8080/",
          "height": 68
        },
        "outputId": "c35ec26c-d68c-4f32-ab96-fce63146a0f9"
      },
      "cell_type": "code",
      "source": [
        "print(loss.grad_fn)  # MSELoss\n",
        "print(loss.grad_fn.next_functions)  # Linear的matrix multiplication\n",
        "print(loss.grad_fn.next_functions[0][0].next_functions)  # 三分支: 來自leafnode=linear矩陣A, 來自ReLU, Tbackward就是transpose(再下去會指向linear的bias vector)\n",
        "# The backward graph will end in 'AccumulateGrad nodes' for the leaves (they have a .variable attribute pointing to the leaf tensor) "
      ],
      "execution_count": 41,
      "outputs": [
        {
          "output_type": "stream",
          "text": [
            "<MseLossBackward object at 0x7f901a03cbe0>\n",
            "((<AddmmBackward object at 0x7f901a03cf60>, 0),)\n",
            "((<AccumulateGrad object at 0x7f901a03cb38>, 0), (<ReluBackward0 object at 0x7f901a03c160>, 0), (<TBackward object at 0x7f901a03c240>, 0))\n"
          ],
          "name": "stdout"
        }
      ]
    },
    {
      "metadata": {
        "id": "5dLROlOTQ1yD",
        "colab_type": "code",
        "colab": {
          "base_uri": "https://localhost:8080/",
          "height": 68
        },
        "outputId": "a7b7cdbb-f70c-4883-87b6-8cced7aa40ef"
      },
      "cell_type": "code",
      "source": [
        "print(loss.grad_fn.next_functions[0][0].next_functions[0][0].next_functions) #nothing\n",
        "print(loss.grad_fn.next_functions[0][0].next_functions[1][0].next_functions) #linear\n",
        "print(loss.grad_fn.next_functions[0][0].next_functions[2][0].next_functions) #bias"
      ],
      "execution_count": 42,
      "outputs": [
        {
          "output_type": "stream",
          "text": [
            "()\n",
            "((<AddmmBackward object at 0x7f8fd3085710>, 0),)\n",
            "((<AccumulateGrad object at 0x7f901a03c828>, 0),)\n"
          ],
          "name": "stdout"
        }
      ]
    },
    {
      "metadata": {
        "id": "jnYiKalGSaiu",
        "colab_type": "text"
      },
      "cell_type": "markdown",
      "source": [
        "###更簡單易懂反項傳播的例子\n",
        "https://discuss.pytorch.org/t/in-the-grad-fn-i-find-a-next-functions-but-i-dont-understand-the-meaning-of-the-attribute/24463/2\n",
        "https://cloud.tencent.com/developer/article/1143410"
      ]
    },
    {
      "metadata": {
        "id": "VQlGZk8dAm83",
        "colab_type": "text"
      },
      "cell_type": "markdown",
      "source": [
        "Backprop\n",
        "--------\n",
        "To backpropagate the error all we have to do is to ``loss.backward()``.\n",
        "You need to clear the existing gradients though, else gradients will be\n",
        "accumulated to existing gradients.\n",
        "\n",
        "\n",
        "Now we shall call ``loss.backward()``, and have a look at conv1's bias\n",
        "gradients before and after the backward.\n",
        "\n"
      ]
    },
    {
      "metadata": {
        "id": "DB1YoUeyAm86",
        "colab_type": "code",
        "colab": {
          "base_uri": "https://localhost:8080/",
          "height": 85
        },
        "outputId": "6ef14e99-7a1f-4c60-fedb-072177038707"
      },
      "cell_type": "code",
      "source": [
        "net.zero_grad()     # zeroes the gradient buffers of all parameters\n",
        "\n",
        "print('conv1.bias.grad before backward')\n",
        "print(net.conv1.bias.grad)\n",
        "\n",
        "loss.backward()\n",
        "\n",
        "print('conv1.bias.grad after backward')\n",
        "print(net.conv1.bias.grad)"
      ],
      "execution_count": 43,
      "outputs": [
        {
          "output_type": "stream",
          "text": [
            "conv1.bias.grad before backward\n",
            "tensor([0., 0., 0., 0., 0., 0.])\n",
            "conv1.bias.grad after backward\n",
            "tensor([ 0.0165, -0.0062, -0.0047,  0.0282,  0.0099, -0.0103])\n"
          ],
          "name": "stdout"
        }
      ]
    },
    {
      "metadata": {
        "id": "1fjVYa2SAm8-",
        "colab_type": "text"
      },
      "cell_type": "markdown",
      "source": [
        "Now, we have seen how to use loss functions.\n",
        "\n",
        "**Read Later:**\n",
        "\n",
        "  The neural network package contains various modules and loss functions\n",
        "  that form the building blocks of deep neural networks. A full list with\n",
        "  documentation is `here <http://pytorch.org/docs/nn>`_.\n",
        "\n",
        "**The only thing left to learn is:**\n",
        "\n",
        "  - Updating the weights of the network\n",
        "\n",
        "Update the weights\n",
        "------------------\n",
        "The simplest update rule used in practice is the Stochastic Gradient\n",
        "Descent (SGD):\n",
        "\n",
        "     ``weight = weight - learning_rate * gradient``\n",
        "\n",
        "We can implement this using simple python code:\n",
        "\n",
        ".. code:: python\n",
        "\n",
        "    learning_rate = 0.01\n",
        "    for f in net.parameters():\n",
        "        f.data.sub_(f.grad.data * learning_rate)\n",
        "\n",
        "However, as you use neural networks, you want to use various different\n",
        "update rules such as SGD, Nesterov-SGD, Adam, RMSProp, etc.\n",
        "To enable this, we built a small package: ``torch.optim`` that\n",
        "implements all these methods. Using it is very simple:\n",
        "\n"
      ]
    },
    {
      "metadata": {
        "id": "IAoNaLETAm9A",
        "colab_type": "code",
        "colab": {}
      },
      "cell_type": "code",
      "source": [
        "import torch.optim as optim\n",
        "\n",
        "# create your optimizer\n",
        "optimizer = optim.SGD(net.parameters(), lr=0.01)\n",
        "\n",
        "# in your training loop:\n",
        "optimizer.zero_grad()   # zero the gradient buffers\n",
        "output = net(input)\n",
        "loss = criterion(output, target)\n",
        "loss.backward()\n",
        "optimizer.step()    # Does the update"
      ],
      "execution_count": 0,
      "outputs": []
    },
    {
      "metadata": {
        "id": "V5iilQJiAm9C",
        "colab_type": "text"
      },
      "cell_type": "markdown",
      "source": [
        ".. Note::\n",
        "\n",
        "      Observe how gradient buffers had to be manually set to zero using\n",
        "      ``optimizer.zero_grad()``. This is because gradients are accumulated\n",
        "      as explained in `Backprop`_ section.\n",
        "\n"
      ]
    }
  ]
}