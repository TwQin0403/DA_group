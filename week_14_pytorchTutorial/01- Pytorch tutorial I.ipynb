{
 "cells": [
  {
   "cell_type": "code",
   "execution_count": 1,
   "metadata": {},
   "outputs": [],
   "source": [
    "from __future__ import print_function\n",
    "import torch\n",
    "import numpy as np"
   ]
  },
  {
   "cell_type": "code",
   "execution_count": 2,
   "metadata": {},
   "outputs": [
    {
     "name": "stdout",
     "output_type": "stream",
     "text": [
      "tensor([[4.0957e-14, 1.3563e-19, 1.8578e-01],\n",
      "        [2.0105e+20, 1.2427e+22, 2.7565e-09],\n",
      "        [1.3556e-19, 7.2053e+22, 4.7428e+30],\n",
      "        [2.5062e-12, 1.4585e-19, 2.3308e-09],\n",
      "        [1.1819e+22, 7.0976e+22, 4.7429e+30]])\n"
     ]
    }
   ],
   "source": [
    "# construct 5x3 matrix, uninitialized\n",
    "x = torch.empty(5, 3)\n",
    "print(x)"
   ]
  },
  {
   "cell_type": "code",
   "execution_count": 3,
   "metadata": {},
   "outputs": [
    {
     "name": "stdout",
     "output_type": "stream",
     "text": [
      "tensor([[0.3520, 0.8377, 0.4024],\n",
      "        [0.0528, 0.3143, 0.2419],\n",
      "        [0.3169, 0.7757, 0.9993],\n",
      "        [0.4479, 0.1354, 0.5075],\n",
      "        [0.8734, 0.5655, 0.2943]])\n"
     ]
    }
   ],
   "source": [
    "# construct a randomly initiazlied matrix\n",
    "x = torch.rand(5, 3)\n",
    "print(x)"
   ]
  },
  {
   "cell_type": "code",
   "execution_count": 4,
   "metadata": {},
   "outputs": [
    {
     "name": "stdout",
     "output_type": "stream",
     "text": [
      "tensor([[0, 0, 0],\n",
      "        [0, 0, 0],\n",
      "        [0, 0, 0],\n",
      "        [0, 0, 0],\n",
      "        [0, 0, 0]])\n"
     ]
    }
   ],
   "source": [
    "# construct a matrix filled with 0\n",
    "x = torch.zeros(5, 3, dtype=torch.long)\n",
    "print(x)"
   ]
  },
  {
   "cell_type": "code",
   "execution_count": 5,
   "metadata": {},
   "outputs": [
    {
     "name": "stdout",
     "output_type": "stream",
     "text": [
      "tensor([5.5000, 3.0000], dtype=torch.float64)\n"
     ]
    }
   ],
   "source": [
    "# construct a tensor directly from data\n",
    "xx = torch.tensor([5.5, 3], dtype=torch.double)\n",
    "print(xx)"
   ]
  },
  {
   "cell_type": "code",
   "execution_count": 6,
   "metadata": {},
   "outputs": [
    {
     "name": "stdout",
     "output_type": "stream",
     "text": [
      "info y:\n",
      " tensor([[1., 1., 1.],\n",
      "        [1., 1., 1.],\n",
      "        [1., 1., 1.],\n",
      "        [1., 1., 1.],\n",
      "        [1., 1., 1.]], dtype=torch.float64) \n",
      "datatype is: torch.float64\n",
      "info x:\n",
      " tensor([[ 1.8923,  0.1709, -0.3623],\n",
      "        [ 0.0096,  0.2679,  0.8625],\n",
      "        [-0.4323,  0.2025, -0.7003],\n",
      "        [-0.3118, -0.3441,  0.1338],\n",
      "        [ 0.4921, -0.4440,  1.5618]]) torch.Size([5, 3])\n"
     ]
    }
   ],
   "source": [
    "# create a tensor based on an existing tensor\n",
    "y = xx.new_ones(5, 3)      # new_* methods take in sizes\n",
    "print('info y:\\n', y, '\\ndatatype is:', y.dtype)\n",
    "x = torch.randn_like(x, dtype=torch.float)    # override dtype!\n",
    "print('info x:\\n', x, x.size())                                      # result has the same size\n"
   ]
  },
  {
   "cell_type": "code",
   "execution_count": 7,
   "metadata": {},
   "outputs": [
    {
     "name": "stdout",
     "output_type": "stream",
     "text": [
      "tensor([[1., 1., 1.],\n",
      "        [1., 1., 1.],\n",
      "        [1., 1., 1.],\n",
      "        [1., 1., 1.],\n",
      "        [1., 1., 1.]]) \n",
      "datatype is: torch.float32\n"
     ]
    }
   ],
   "source": [
    "# or create a tensor without inheriting history tensors.\n",
    "y = torch.ones(5,3)\n",
    "print(y, '\\ndatatype is:', y.dtype)"
   ]
  },
  {
   "cell_type": "markdown",
   "metadata": {},
   "source": [
    "**Introduction to Tensor Operations**"
   ]
  },
  {
   "cell_type": "code",
   "execution_count": 8,
   "metadata": {},
   "outputs": [
    {
     "name": "stdout",
     "output_type": "stream",
     "text": [
      "tensor([[0.9142, 0.7049, 0.2709],\n",
      "        [1.4319, 1.0744, 1.3698],\n",
      "        [1.2601, 0.4727, 1.3686],\n",
      "        [0.8324, 1.3013, 0.9930],\n",
      "        [0.8916, 1.5698, 0.2664]])\n",
      "tensor([[0.9142, 0.7049, 0.2709],\n",
      "        [1.4319, 1.0744, 1.3698],\n",
      "        [1.2601, 0.4727, 1.3686],\n",
      "        [0.8324, 1.3013, 0.9930],\n",
      "        [0.8916, 1.5698, 0.2664]])\n",
      "tensor([[1, 1, 1],\n",
      "        [1, 1, 1],\n",
      "        [1, 1, 1],\n",
      "        [1, 1, 1],\n",
      "        [1, 1, 1]], dtype=torch.uint8)\n",
      "tensor([[0.9142, 0.7049, 0.2709],\n",
      "        [1.4319, 1.0744, 1.3698],\n",
      "        [1.2601, 0.4727, 1.3686],\n",
      "        [0.8324, 1.3013, 0.9930],\n",
      "        [0.8916, 1.5698, 0.2664]])\n"
     ]
    }
   ],
   "source": [
    "# addition 1\n",
    "y = torch.rand(5, 3)\n",
    "x = torch.rand_like(y, dtype=torch.float)\n",
    "print(x + y)\n",
    "# addition 2\n",
    "print(torch.add(x, y))\n",
    "\n",
    "# addtion: providing output tensor as an argument\n",
    "result = torch.empty(5, 3)\n",
    "torch.add(x, y, out=result)\n",
    "print(result == (x+y))\n",
    "\n",
    "# addtion: inplace (內存直接修改)\n",
    "# adds x to y\n",
    "y.add_(x)\n",
    "print(y)"
   ]
  },
  {
   "cell_type": "code",
   "execution_count": 9,
   "metadata": {},
   "outputs": [
    {
     "name": "stdout",
     "output_type": "stream",
     "text": [
      "tensor([0.1569, 0.9878, 0.3664, 0.3386, 0.6356])\n"
     ]
    }
   ],
   "source": [
    "# std numpy-like operation\n",
    "print(x[:, 1])"
   ]
  },
  {
   "cell_type": "code",
   "execution_count": 10,
   "metadata": {},
   "outputs": [
    {
     "name": "stdout",
     "output_type": "stream",
     "text": [
      "torch.Size([4, 4]) torch.Size([16]) torch.Size([2, 8])\n"
     ]
    }
   ],
   "source": [
    "# resize\n",
    "x = torch.randn(4, 4)\n",
    "y = x.view(16)\n",
    "z = x.view(-1, 8)  # the size -1 is inferred from other dimensions\n",
    "print(x.size(), y.size(), z.size())"
   ]
  },
  {
   "cell_type": "code",
   "execution_count": 11,
   "metadata": {},
   "outputs": [
    {
     "name": "stdout",
     "output_type": "stream",
     "text": [
      "tensor([1.3966])\n",
      "tensor(1.3966)\n",
      "1.3966311\n",
      "1.396631121635437\n"
     ]
    }
   ],
   "source": [
    "# 如果是 one-element tensor 可用item()方法取值則不再是torch.tensor, 不同於 x[0].\n",
    "x= torch.randn(1)\n",
    "print(x)\n",
    "print(x[0])\n",
    "print(x[0].numpy())\n",
    "print(x.item())"
   ]
  },
  {
   "cell_type": "markdown",
   "metadata": {},
   "source": [
    "**NumPy Bridge**"
   ]
  },
  {
   "cell_type": "code",
   "execution_count": 5,
   "metadata": {},
   "outputs": [
    {
     "name": "stdout",
     "output_type": "stream",
     "text": [
      "tensor([1., 1., 1., 1., 1.])\n",
      "[1. 1. 1. 1. 1.]\n",
      "ids:(2649284341120,2649283931232); and IS operation: False\n"
     ]
    }
   ],
   "source": [
    "# converting torch tensor to a numpy\n",
    "a = torch.ones(5)\n",
    "print(a)\n",
    "b = a.numpy()\n",
    "print(b)\n",
    "print(\"ids:(%s,%s); and IS operation: %s\" % (id(a), id(b), a is b ))"
   ]
  },
  {
   "cell_type": "code",
   "execution_count": 6,
   "metadata": {},
   "outputs": [
    {
     "name": "stdout",
     "output_type": "stream",
     "text": [
      "tensor([2., 2., 2., 2., 2.])\n",
      "[2. 2. 2. 2. 2.]\n",
      "The Torch Tensor and NumPy array will share their underlying \n",
      "      memory locations, and changing one will change the other.\n",
      "tensor([3., 3., 3., 3., 3.])\n",
      "[3. 3. 3. 3. 3.]\n",
      "tensor([4., 4., 4., 4., 4.])\n",
      "[3. 3. 3. 3. 3.]\n",
      "tensor([5., 5., 5., 5., 5.])\n",
      "[5. 5. 5. 5. 5.]\n"
     ]
    }
   ],
   "source": [
    "# 如果a改變的話會影響b嗎?\n",
    "a.add_(1)\n",
    "print(a)\n",
    "print(b)\n",
    "print('''The Torch Tensor and NumPy array will share their underlying \n",
    "      memory locations, and changing one will change the other.''')\n",
    "a+=1 #效果同上\n",
    "print(a)\n",
    "print(b)\n",
    "\n",
    "a = a+1 ##此時你把a assign到新的地方並存值=a+1，所以和b斷了聯繫。\n",
    "print(a)\n",
    "print(b)\n",
    "\n",
    "b = a.numpy()\n",
    "b+=1\n",
    "print(a)\n",
    "print(b)"
   ]
  },
  {
   "cell_type": "markdown",
   "metadata": {},
   "source": [
    "**Converting NumPy Array to Torch Tensor**"
   ]
  },
  {
   "cell_type": "code",
   "execution_count": 14,
   "metadata": {},
   "outputs": [
    {
     "name": "stdout",
     "output_type": "stream",
     "text": [
      "[1. 1. 1. 1. 1.] \n",
      " tensor([1., 1., 1., 1., 1.], dtype=torch.float64)\n",
      "[2. 2. 2. 2. 2.] \n",
      " tensor([2., 2., 2., 2., 2.], dtype=torch.float64)\n",
      "[3. 3. 3. 3. 3.] \n",
      " tensor([3., 3., 3., 3., 3.], dtype=torch.float64)\n",
      "[4. 4. 4. 4. 4.] \n",
      " tensor([4., 4., 4., 4., 4.], dtype=torch.float64)\n"
     ]
    }
   ],
   "source": [
    "# from_numpy()\n",
    "a = np.ones(5)\n",
    "b = torch.from_numpy(a)\n",
    "print(a,'\\n',b)\n",
    "\n",
    "np.add(a, 1, out=a)\n",
    "print(a, '\\n', b)\n",
    "\n",
    "a += 1\n",
    "print(a, '\\n', b)\n",
    "\n",
    "b += 1\n",
    "print(a, '\\n', b)"
   ]
  },
  {
   "cell_type": "code",
   "execution_count": 7,
   "metadata": {},
   "outputs": [
    {
     "name": "stdout",
     "output_type": "stream",
     "text": [
      "cuda\n"
     ]
    },
    {
     "name": "stderr",
     "output_type": "stream",
     "text": [
      "c:\\users\\rreal\\appdata\\local\\programs\\python\\python36\\lib\\site-packages\\torch\\cuda\\__init__.py:117: UserWarning: \n",
      "    Found GPU0 GeForce GT 720M which is of cuda capability 2.1.\n",
      "    PyTorch no longer supports this GPU because it is too old.\n",
      "    \n",
      "  warnings.warn(old_gpu_warn % (d, name, major, capability[1]))\n"
     ]
    },
    {
     "ename": "RuntimeError",
     "evalue": "cuda runtime error (8) : invalid device function at c:\\a\\w\\1\\s\\windows\\pytorch\\aten\\src\\thc\\generic/THCTensorMath.cu:14",
     "output_type": "error",
     "traceback": [
      "\u001b[1;31m---------------------------------------------------------------------------\u001b[0m",
      "\u001b[1;31mRuntimeError\u001b[0m                              Traceback (most recent call last)",
      "\u001b[1;32m<ipython-input-7-f51fbb56e8ce>\u001b[0m in \u001b[0;36m<module>\u001b[1;34m()\u001b[0m\n\u001b[0;32m      4\u001b[0m     \u001b[0mdevice\u001b[0m \u001b[1;33m=\u001b[0m \u001b[0mtorch\u001b[0m\u001b[1;33m.\u001b[0m\u001b[0mdevice\u001b[0m\u001b[1;33m(\u001b[0m\u001b[1;34m\"cuda\"\u001b[0m\u001b[1;33m)\u001b[0m          \u001b[1;31m# a CUDA device object\u001b[0m\u001b[1;33m\u001b[0m\u001b[0m\n\u001b[0;32m      5\u001b[0m     \u001b[0mprint\u001b[0m\u001b[1;33m(\u001b[0m\u001b[0mdevice\u001b[0m\u001b[1;33m)\u001b[0m\u001b[1;33m\u001b[0m\u001b[0m\n\u001b[1;32m----> 6\u001b[1;33m     \u001b[0my\u001b[0m \u001b[1;33m=\u001b[0m \u001b[0mtorch\u001b[0m\u001b[1;33m.\u001b[0m\u001b[0mones_like\u001b[0m\u001b[1;33m(\u001b[0m\u001b[0mx\u001b[0m\u001b[1;33m,\u001b[0m \u001b[0mdevice\u001b[0m\u001b[1;33m=\u001b[0m\u001b[0mdevice\u001b[0m\u001b[1;33m)\u001b[0m  \u001b[1;31m# directly create a tensor on GPU\u001b[0m\u001b[1;33m\u001b[0m\u001b[0m\n\u001b[0m\u001b[0;32m      7\u001b[0m     \u001b[0mx\u001b[0m \u001b[1;33m=\u001b[0m \u001b[0mx\u001b[0m\u001b[1;33m.\u001b[0m\u001b[0mto\u001b[0m\u001b[1;33m(\u001b[0m\u001b[0mdevice\u001b[0m\u001b[1;33m)\u001b[0m                       \u001b[1;31m# or just use strings ``.to(\"cuda\")``\u001b[0m\u001b[1;33m\u001b[0m\u001b[0m\n\u001b[0;32m      8\u001b[0m     \u001b[0mz\u001b[0m \u001b[1;33m=\u001b[0m \u001b[0mx\u001b[0m \u001b[1;33m+\u001b[0m \u001b[0my\u001b[0m\u001b[1;33m\u001b[0m\u001b[0m\n",
      "\u001b[1;31mRuntimeError\u001b[0m: cuda runtime error (8) : invalid device function at c:\\a\\w\\1\\s\\windows\\pytorch\\aten\\src\\thc\\generic/THCTensorMath.cu:14"
     ]
    }
   ],
   "source": [
    "# let us run this cell only if CUDA is available\n",
    "# We will use ``torch.device`` objects to move tensors in and out of GPU\n",
    "if torch.cuda.is_available():\n",
    "    device = torch.device(\"cuda\")          # a CUDA device object\n",
    "    print(device)\n",
    "    y = torch.ones_like(x, device=device)  # directly create a tensor on GPU\n",
    "    x = x.to(device)                       # or just use strings ``.to(\"cuda\")``\n",
    "    z = x + y\n",
    "    print(z)\n",
    "    print(z.to(\"cpu\", torch.double))       # ``.to`` can also change dtype together!"
   ]
  },
  {
   "cell_type": "code",
   "execution_count": null,
   "metadata": {},
   "outputs": [],
   "source": []
  }
 ],
 "metadata": {
  "kernelspec": {
   "display_name": "Python 3",
   "language": "python",
   "name": "python3"
  },
  "language_info": {
   "codemirror_mode": {
    "name": "ipython",
    "version": 3
   },
   "file_extension": ".py",
   "mimetype": "text/x-python",
   "name": "python",
   "nbconvert_exporter": "python",
   "pygments_lexer": "ipython3",
   "version": "3.6.3"
  }
 },
 "nbformat": 4,
 "nbformat_minor": 2
}
